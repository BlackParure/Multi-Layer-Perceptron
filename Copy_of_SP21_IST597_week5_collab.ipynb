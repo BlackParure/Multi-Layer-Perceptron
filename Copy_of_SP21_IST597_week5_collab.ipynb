{
  "nbformat": 4,
  "nbformat_minor": 0,
  "metadata": {
    "colab": {
      "name": "Copy of SP21_IST597_week5_collab.ipynb",
      "provenance": [],
      "collapsed_sections": []
    },
    "kernelspec": {
      "name": "python3",
      "display_name": "Python 3"
    },
    "accelerator": "GPU"
  },
  "cells": [
    {
      "cell_type": "markdown",
      "metadata": {
        "id": "71kdFp0QgF4K"
      },
      "source": [
        "# IST597:- Multi-Layer Perceptron"
      ]
    },
    {
      "cell_type": "markdown",
      "metadata": {
        "id": "C2yHcl5xgPV1"
      },
      "source": [
        "## Load the libraries"
      ]
    },
    {
      "cell_type": "code",
      "metadata": {
        "id": "2DPwxLR2gSLC"
      },
      "source": [
        "import os\n",
        "import numpy as np\n",
        "import time\n",
        "import tensorflow as tf\n",
        "import tensorflow_datasets\n",
        "from tqdm import tqdm\n",
        "import pickle\n",
        "from tensorflow.keras.layers import Dense, Flatten, Conv2D\n",
        "\n"
      ],
      "execution_count": 1,
      "outputs": []
    },
    {
      "cell_type": "code",
      "metadata": {
        "id": "wV-3kEaggcO8",
        "colab": {
          "base_uri": "https://localhost:8080/"
        },
        "outputId": "0302a900-6d48-4d0d-b3cf-9db381de46d6"
      },
      "source": [
        "tf.config.list_physical_devices('GPU')"
      ],
      "execution_count": 2,
      "outputs": [
        {
          "output_type": "execute_result",
          "data": {
            "text/plain": [
              "[PhysicalDevice(name='/physical_device:GPU:0', device_type='GPU')]"
            ]
          },
          "metadata": {},
          "execution_count": 2
        }
      ]
    },
    {
      "cell_type": "code",
      "metadata": {
        "id": "40XlFnwho7D8"
      },
      "source": [
        "# Hyper parameter Setting\n",
        "size_input = 784\n",
        "size_hidden = 256\n",
        "size_output = 10\n",
        "NUM_EPOCHS = 20\n",
        "dropout = False\n",
        "l1 = 0.1\n",
        "l2 = 0.1\n",
        "lr = 0.001\n",
        "dataset = \"fashion_mnist\"\n",
        "# dataset = \"mnist\"\n",
        "regularizer = \"L1L2\"\n",
        "class_names = ['T-shirt/top', 'Trouser', 'Pullover', 'Dress', 'Coat',\n",
        "              'Sandal', 'Shirt', 'Sneaker', 'Bag', 'Ankle boot']\n",
        "np.random.seed(8888)\n",
        "tf.random.set_seed(8888)"
      ],
      "execution_count": 82,
      "outputs": []
    },
    {
      "cell_type": "code",
      "source": [
        "# load data from keras\n",
        "def load_data(dataset, batch_size=20):\n",
        "  if dataset == \"mnist\":\n",
        "    (x_train, y_train), (x_test, y_test) = tf.keras.datasets.mnist.load_data()\n",
        "  elif dataset == \"fashion_mnist\":\n",
        "    (x_train, y_train), (x_test, y_test) = tf.keras.datasets.fashion_mnist.load_data()\n",
        "  x_train, x_test = x_train / 255.0, x_test / 255.0\n",
        "  # Split dataset into batches\n",
        "  train_ds = tf.data.Dataset.from_tensor_slices((x_train, y_train)).batch(batch_size)\n",
        "  test_ds = tf.data.Dataset.from_tensor_slices((x_test, y_test)).batch(batch_size)\n",
        "\n",
        "  return [train_ds, test_ds]\n",
        "\n",
        "  "
      ],
      "metadata": {
        "id": "zWhVHRq8vcjP"
      },
      "execution_count": 83,
      "outputs": []
    },
    {
      "cell_type": "markdown",
      "metadata": {
        "id": "Eb4hOoVbnzSJ"
      },
      "source": [
        "## Build MLP"
      ]
    },
    {
      "cell_type": "code",
      "metadata": {
        "id": "Ht9_qpYipgHw"
      },
      "source": [
        "# Define class to build mlp model\n",
        "class MLP(object):\n",
        "  def __init__(self, size_input, size_hidden, size_output, device=None):\n",
        "    \"\"\"\n",
        "    size_input: int, size of input layer\n",
        "    size_hidden: int, size of hidden layer\n",
        "    size_output: int, size of output layer\n",
        "    device: str or None, either 'cpu' or 'gpu' or None. If None, the device to be used will be decided automatically during Eager Execution\n",
        "    \"\"\"\n",
        "    self.size_input, self.size_hidden, self.size_output, self.device =\\\n",
        "    size_input, size_hidden, size_output, device\n",
        "    \n",
        "    # Initialize weights between input layer and hidden layer\n",
        "    self.W1 = tf.Variable(tf.random.normal([self.size_input, self.size_hidden]))\n",
        "    # Initialize biases for hidden layer\n",
        "    self.b1 = tf.Variable(tf.random.normal([1, self.size_hidden]))\n",
        "     # Initialize weights between hidden layer and output layer\n",
        "    self.W2 = tf.Variable(tf.random.normal([self.size_hidden, self.size_output]))\n",
        "    # Initialize biases for output layer\n",
        "    self.b2 = tf.Variable(tf.random.normal([1, self.size_output]))\n",
        "    \n",
        "    # Define variables to be updated during backpropagation\n",
        "    self.variables = [self.W1, self.W2, self.b1, self.b2]\n",
        "\n"
      ],
      "execution_count": 84,
      "outputs": []
    },
    {
      "cell_type": "markdown",
      "metadata": {
        "id": "cUDFOuNk618X"
      },
      "source": [
        "## Train Model"
      ]
    },
    {
      "cell_type": "code",
      "source": [
        "result = []\n",
        "[train_ds, test_ds] = load_data(dataset)\n",
        "with tf.device('gpu:0'):\n",
        "  mlp_on_cpu = MLP(size_input, size_hidden, size_output)\n",
        "  loss_object = tf.keras.losses.SparseCategoricalCrossentropy(from_logits=True)\n",
        "\n",
        "  optimizer = tf.keras.optimizers.Adam(learning_rate=lr)\n",
        "\n",
        "  train_loss = tf.keras.metrics.Mean(name='train_loss')\n",
        "  train_accuracy = tf.keras.metrics.SparseCategoricalAccuracy(name='train_accuracy')\n",
        "\n",
        "\n",
        "  time_start = time.time()\n",
        "  for epoch in range(NUM_EPOCHS):\n",
        "    print(\"Epoch: \", epoch)\n",
        "    loss_total = tf.zeros([1,1], dtype=tf.float32)\n",
        "    lt = 0\n",
        "    # train_ds = tf.data.Dataset.from_tensor_slices((X_train, y_train)).shuffle(25, seed=epoch*(1234)).batch(20)\n",
        "    # print(len(train_ds))\n",
        "    for images, labels in tqdm(train_ds):\n",
        "      with tf.GradientTape() as tape:\n",
        "        # Cast X to float32\n",
        "        X = images\n",
        "        layer = tf.keras.layers.Dropout(.2)\n",
        "        X_tf = tf.cast(X, dtype=tf.float32)\n",
        "        X_tf = tf.reshape(X_tf, [20,784])\n",
        "        #Remember to normalize your dataset before moving forward\n",
        "        # Compute values in hidden layer\n",
        "        what = tf.matmul(X_tf, mlp_on_cpu.W1) + mlp_on_cpu.b1\n",
        "        hhat = tf.nn.relu(what)\n",
        "        if dropout:\n",
        "          output = layer(tf.matmul(hhat, mlp_on_cpu.W2) + mlp_on_cpu.b2)\n",
        "        else:\n",
        "          output = tf.matmul(hhat, mlp_on_cpu.W2) + mlp_on_cpu.b2 \n",
        "          \n",
        "        if regularizer == \"L1L2\":\n",
        "          loss = loss_object(labels, output)- l1 * tf.math.reduce_sum(abs(X_tf)) - l2 * tf.math.reduce_sum(tf.math.square(X_tf))\n",
        "        else:\n",
        "          loss = loss_object(labels, output)\n",
        "      gradients = tape.gradient(loss, mlp_on_cpu.variables)\n",
        "      optimizer.apply_gradients(zip(gradients, mlp_on_cpu.variables))\n",
        "      train_loss(loss)\n",
        "      train_accuracy(labels, output)\n",
        "    print('Number of Epoch = {} - Average Loss:= {} - Average Accuracy:= {}'.format(epoch + 1, train_loss.result().numpy(), train_accuracy.result().numpy()))\n",
        "    result.append([epoch + 1, train_loss.result().numpy(), train_accuracy.result().numpy()])\n",
        "  time_taken = time.time() - time_start\n",
        "  filename = '{}-{}-{}-{}-{}-{}'.format(dropout, lr, dataset,regularizer, l1, l2)\n",
        "  outfile = open(filename,'wb')\n",
        "  pickle.dump([result, time_taken], outfile)\n",
        "  outfile.close()\n",
        "  print('\\nTotal time taken (in seconds): {:.2f}'.format(time_taken))\n",
        "  #For per epoch_time = Total_Time / Number_of_epochs"
      ],
      "metadata": {
        "colab": {
          "base_uri": "https://localhost:8080/"
        },
        "id": "h3oEq6tXLfQ7",
        "outputId": "a2cb518d-75de-46cc-b39b-ad9383e3d6b8"
      },
      "execution_count": 85,
      "outputs": [
        {
          "output_type": "stream",
          "name": "stdout",
          "text": [
            "Epoch:  0\n"
          ]
        },
        {
          "output_type": "stream",
          "name": "stderr",
          "text": [
            "100%|██████████| 3000/3000 [00:34<00:00, 85.90it/s]\n"
          ]
        },
        {
          "output_type": "stream",
          "name": "stdout",
          "text": [
            "Number of Epoch = 1 - Average Loss:= -761.766845703125 - Average Accuracy:= 0.7388666868209839\n",
            "Epoch:  1\n"
          ]
        },
        {
          "output_type": "stream",
          "name": "stderr",
          "text": [
            "100%|██████████| 3000/3000 [00:31<00:00, 95.59it/s]\n"
          ]
        },
        {
          "output_type": "stream",
          "name": "stdout",
          "text": [
            "Number of Epoch = 2 - Average Loss:= -764.6197509765625 - Average Accuracy:= 0.7711416482925415\n",
            "Epoch:  2\n"
          ]
        },
        {
          "output_type": "stream",
          "name": "stderr",
          "text": [
            "100%|██████████| 3000/3000 [00:32<00:00, 92.40it/s]\n"
          ]
        },
        {
          "output_type": "stream",
          "name": "stdout",
          "text": [
            "Number of Epoch = 3 - Average Loss:= -766.0029296875 - Average Accuracy:= 0.787850022315979\n",
            "Epoch:  3\n"
          ]
        },
        {
          "output_type": "stream",
          "name": "stderr",
          "text": [
            "100%|██████████| 3000/3000 [00:32<00:00, 93.38it/s] \n"
          ]
        },
        {
          "output_type": "stream",
          "name": "stdout",
          "text": [
            "Number of Epoch = 4 - Average Loss:= -766.881591796875 - Average Accuracy:= 0.7996249794960022\n",
            "Epoch:  4\n"
          ]
        },
        {
          "output_type": "stream",
          "name": "stderr",
          "text": [
            "100%|██████████| 3000/3000 [00:31<00:00, 95.41it/s]\n"
          ]
        },
        {
          "output_type": "stream",
          "name": "stdout",
          "text": [
            "Number of Epoch = 5 - Average Loss:= -767.5076904296875 - Average Accuracy:= 0.8088499903678894\n",
            "Epoch:  5\n"
          ]
        },
        {
          "output_type": "stream",
          "name": "stderr",
          "text": [
            "100%|██████████| 3000/3000 [00:31<00:00, 95.92it/s]\n"
          ]
        },
        {
          "output_type": "stream",
          "name": "stdout",
          "text": [
            "Number of Epoch = 6 - Average Loss:= -767.9867553710938 - Average Accuracy:= 0.8164111375808716\n",
            "Epoch:  6\n"
          ]
        },
        {
          "output_type": "stream",
          "name": "stderr",
          "text": [
            "100%|██████████| 3000/3000 [00:30<00:00, 96.79it/s]\n"
          ]
        },
        {
          "output_type": "stream",
          "name": "stdout",
          "text": [
            "Number of Epoch = 7 - Average Loss:= -768.3683471679688 - Average Accuracy:= 0.8228928446769714\n",
            "Epoch:  7\n"
          ]
        },
        {
          "output_type": "stream",
          "name": "stderr",
          "text": [
            "100%|██████████| 3000/3000 [00:31<00:00, 95.56it/s]\n"
          ]
        },
        {
          "output_type": "stream",
          "name": "stdout",
          "text": [
            "Number of Epoch = 8 - Average Loss:= -768.6846923828125 - Average Accuracy:= 0.8286041617393494\n",
            "Epoch:  8\n"
          ]
        },
        {
          "output_type": "stream",
          "name": "stderr",
          "text": [
            "100%|██████████| 3000/3000 [00:31<00:00, 96.35it/s]\n"
          ]
        },
        {
          "output_type": "stream",
          "name": "stdout",
          "text": [
            "Number of Epoch = 9 - Average Loss:= -768.9495849609375 - Average Accuracy:= 0.8335444331169128\n",
            "Epoch:  9\n"
          ]
        },
        {
          "output_type": "stream",
          "name": "stderr",
          "text": [
            "100%|██████████| 3000/3000 [00:41<00:00, 73.09it/s]\n"
          ]
        },
        {
          "output_type": "stream",
          "name": "stdout",
          "text": [
            "Number of Epoch = 10 - Average Loss:= -769.1743774414062 - Average Accuracy:= 0.8380699753761292\n",
            "Epoch:  10\n"
          ]
        },
        {
          "output_type": "stream",
          "name": "stderr",
          "text": [
            "100%|██████████| 3000/3000 [00:31<00:00, 96.37it/s]\n"
          ]
        },
        {
          "output_type": "stream",
          "name": "stdout",
          "text": [
            "Number of Epoch = 11 - Average Loss:= -769.3710327148438 - Average Accuracy:= 0.8422242403030396\n",
            "Epoch:  11\n"
          ]
        },
        {
          "output_type": "stream",
          "name": "stderr",
          "text": [
            "100%|██████████| 3000/3000 [00:31<00:00, 95.13it/s]\n"
          ]
        },
        {
          "output_type": "stream",
          "name": "stdout",
          "text": [
            "Number of Epoch = 12 - Average Loss:= -769.5438232421875 - Average Accuracy:= 0.846095860004425\n",
            "Epoch:  12\n"
          ]
        },
        {
          "output_type": "stream",
          "name": "stderr",
          "text": [
            "100%|██████████| 3000/3000 [00:32<00:00, 92.52it/s]\n"
          ]
        },
        {
          "output_type": "stream",
          "name": "stdout",
          "text": [
            "Number of Epoch = 13 - Average Loss:= -769.69677734375 - Average Accuracy:= 0.8496551513671875\n",
            "Epoch:  13\n"
          ]
        },
        {
          "output_type": "stream",
          "name": "stderr",
          "text": [
            "100%|██████████| 3000/3000 [00:41<00:00, 73.10it/s]\n"
          ]
        },
        {
          "output_type": "stream",
          "name": "stdout",
          "text": [
            "Number of Epoch = 14 - Average Loss:= -769.8325805664062 - Average Accuracy:= 0.852990448474884\n",
            "Epoch:  14\n"
          ]
        },
        {
          "output_type": "stream",
          "name": "stderr",
          "text": [
            "100%|██████████| 3000/3000 [00:48<00:00, 61.31it/s]\n"
          ]
        },
        {
          "output_type": "stream",
          "name": "stdout",
          "text": [
            "Number of Epoch = 15 - Average Loss:= -769.9542846679688 - Average Accuracy:= 0.856166660785675\n",
            "Epoch:  15\n"
          ]
        },
        {
          "output_type": "stream",
          "name": "stderr",
          "text": [
            "100%|██████████| 3000/3000 [01:21<00:00, 36.59it/s]\n"
          ]
        },
        {
          "output_type": "stream",
          "name": "stdout",
          "text": [
            "Number of Epoch = 16 - Average Loss:= -770.0634155273438 - Average Accuracy:= 0.8590999841690063\n",
            "Epoch:  16\n"
          ]
        },
        {
          "output_type": "stream",
          "name": "stderr",
          "text": [
            "100%|██████████| 3000/3000 [00:50<00:00, 59.28it/s]\n"
          ]
        },
        {
          "output_type": "stream",
          "name": "stdout",
          "text": [
            "Number of Epoch = 17 - Average Loss:= -770.1614990234375 - Average Accuracy:= 0.8618245124816895\n",
            "Epoch:  17\n"
          ]
        },
        {
          "output_type": "stream",
          "name": "stderr",
          "text": [
            "100%|██████████| 3000/3000 [01:22<00:00, 36.57it/s]\n"
          ]
        },
        {
          "output_type": "stream",
          "name": "stdout",
          "text": [
            "Number of Epoch = 18 - Average Loss:= -770.2503051757812 - Average Accuracy:= 0.8643962740898132\n",
            "Epoch:  18\n"
          ]
        },
        {
          "output_type": "stream",
          "name": "stderr",
          "text": [
            "100%|██████████| 3000/3000 [00:41<00:00, 73.11it/s]\n"
          ]
        },
        {
          "output_type": "stream",
          "name": "stdout",
          "text": [
            "Number of Epoch = 19 - Average Loss:= -770.3305053710938 - Average Accuracy:= 0.8669579029083252\n",
            "Epoch:  19\n"
          ]
        },
        {
          "output_type": "stream",
          "name": "stderr",
          "text": [
            "100%|██████████| 3000/3000 [00:31<00:00, 95.43it/s]"
          ]
        },
        {
          "output_type": "stream",
          "name": "stdout",
          "text": [
            "Number of Epoch = 20 - Average Loss:= -770.4050903320312 - Average Accuracy:= 0.8692799806594849\n",
            "\n",
            "Total time taken (in seconds): 800.64\n"
          ]
        },
        {
          "output_type": "stream",
          "name": "stderr",
          "text": [
            "\n"
          ]
        }
      ]
    },
    {
      "cell_type": "markdown",
      "metadata": {
        "id": "PXe-2MENCOjq"
      },
      "source": [
        "## Test"
      ]
    },
    {
      "cell_type": "code",
      "metadata": {
        "id": "EKxWn7CNDVN5",
        "colab": {
          "base_uri": "https://localhost:8080/"
        },
        "outputId": "da9c988a-7a55-4648-bbb2-ebf14911142c"
      },
      "source": [
        "# Test on Testset \n",
        "loss_object = tf.keras.losses.SparseCategoricalCrossentropy(from_logits=True)\n",
        "test_loss_total = tf.Variable(0, dtype=tf.float32)\n",
        "test_loss = tf.keras.metrics.Mean(name='test_loss')\n",
        "test_accuracy = tf.keras.metrics.SparseCategoricalAccuracy(name='test_accuracy')\n",
        "#test_loss_total = 0.0\n",
        "for images, labels in tqdm(test_ds):\n",
        "  with tf.GradientTape() as tape:\n",
        "    # Cast X to float32\n",
        "    X = images\n",
        "    layer = tf.keras.layers.Dropout(.2)\n",
        "    X_tf = tf.cast(X, dtype=tf.float32)\n",
        "    X_tf = tf.reshape(X_tf, [20,784])\n",
        "    #Remember to normalize your dataset before moving forward\n",
        "    # Compute values in hidden layer\n",
        "    what = tf.matmul(X_tf, mlp_on_cpu.W1) + mlp_on_cpu.b1\n",
        "    hhat = tf.nn.relu(what)\n",
        "    if dropout:\n",
        "      output = layer(tf.matmul(hhat, mlp_on_cpu.W2) + mlp_on_cpu.b2)\n",
        "    else:\n",
        "      output = tf.matmul(hhat, mlp_on_cpu.W2) + mlp_on_cpu.b2 \n",
        "      \n",
        "    if regularizer == \"L1L2\":\n",
        "      loss = loss_object(labels, output)- l1 * tf.math.reduce_sum(abs(X_tf)) - l2 * tf.math.reduce_sum(tf.math.square(X_tf))\n",
        "    else:\n",
        "      loss = loss_object(labels, output)\n",
        "    test_loss(loss)\n",
        "    test_accuracy(labels, output)\n",
        "print('Test Result - Average Loss:= {} - Average Accuracy:= {}'.format(test_loss.result().numpy(), test_accuracy.result().numpy()))"
      ],
      "execution_count": 86,
      "outputs": [
        {
          "output_type": "stream",
          "name": "stderr",
          "text": [
            "100%|██████████| 500/500 [00:03<00:00, 148.30it/s]"
          ]
        },
        {
          "output_type": "stream",
          "name": "stdout",
          "text": [
            "Test Result - Average Loss:= -771.993896484375 - Average Accuracy:= 0.8416000008583069\n"
          ]
        },
        {
          "output_type": "stream",
          "name": "stderr",
          "text": [
            "\n"
          ]
        }
      ]
    },
    {
      "cell_type": "code",
      "source": [
        "# do Plotting\n",
        "import matplotlib.pyplot as plt\n",
        "infile = open(\"/content/False-0.001-fashion_mnist-L1L2-0.1-0.1\",'rb')\n",
        "new_dict = pickle.load(infile)\n",
        "infile.close()\n",
        "x=[]\n",
        "y_loss=[]\n",
        "z_acc=[]\n",
        "print(new_dict[1])\n",
        "for i in new_dict[0]:\n",
        "  x.append(i[0])\n",
        "  y_loss.append(i[1])\n",
        "  z_acc.append(i[2])\n",
        "plt.plot(x, y_loss, label = \"Epoch vs Loss\")\n",
        "# plt.plot(x, z_acc, label = \"Epoch vs Acc\")\n",
        "\n",
        "plt.xlabel('x - Epoch')\n",
        "# plt.ylabel('y - Acc')\n",
        "plt.ylabel('y - Loss')\n",
        "plt.title('Loss Graph for Fashion FMNIST')\n",
        "# plt.title('Acc Graph for Fashion FMNIST')\n",
        "plt.show()\n",
        "\n",
        "\n",
        "# x = [1, 2, 3, 4, 5, 6, 7, 8, 9, 10]\n",
        "# train_variance = [770.383, 770.677, 770.214, 770.437, 770.368, 770.570, 770.313, 770.374, 770.405, 770.517]\n",
        "# test_variance = [772.490, 772.624, 772.049, 772.451, 772.399, 772.587, 772.256, 772.161, 771.993, 771.863]\n",
        "# plt.scatter(x, test_variance, label = \"Test_Variance\")\n",
        "# plt.title('Variance Graph for Fashion FMNIST in Testing')\n",
        "# plt.show()\n"
      ],
      "metadata": {
        "colab": {
          "base_uri": "https://localhost:8080/",
          "height": 281
        },
        "id": "AL2tRYJxPavT",
        "outputId": "fd3a7717-1705-49c8-899a-993a639b01e6"
      },
      "execution_count": 89,
      "outputs": [
        {
          "output_type": "display_data",
          "data": {
            "image/png": "[encoded data removed]",
            "text/plain": [
              "<Figure size 432x288 with 1 Axes>"
            ]
          },
          "metadata": {
            "needs_background": "light"
          }
        }
      ]
    }
  ]
}